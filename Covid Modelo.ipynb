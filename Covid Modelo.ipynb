{
 "cells": [
  {
   "cell_type": "code",
   "execution_count": 2340,
   "metadata": {},
   "outputs": [],
   "source": [
    "import numpy as np\n",
    "from scipy.integrate import odeint\n",
    "import matplotlib.pyplot as plt\n",
    "import pandas as pd\n",
    "#t_visible(False)\n",
    "plt.show()\n",
    "from lmfit import minimize, Parameters, Parameter, report_fit"
   ]
  },
  {
   "cell_type": "code",
   "execution_count": 2341,
   "metadata": {},
   "outputs": [],
   "source": [
    "np.set_printoptions(suppress=True)"
   ]
  },
  {
   "cell_type": "code",
   "execution_count": 2342,
   "metadata": {},
   "outputs": [],
   "source": [
    "data=pd.read_csv('covid_data_peru.csv', encoding = \"ISO-8859-1\")"
   ]
  },
  {
   "cell_type": "code",
   "execution_count": 2343,
   "metadata": {},
   "outputs": [
    {
     "data": {
      "text/html": [
       "<div>\n",
       "<style scoped>\n",
       "    .dataframe tbody tr th:only-of-type {\n",
       "        vertical-align: middle;\n",
       "    }\n",
       "\n",
       "    .dataframe tbody tr th {\n",
       "        vertical-align: top;\n",
       "    }\n",
       "\n",
       "    .dataframe thead th {\n",
       "        text-align: right;\n",
       "    }\n",
       "</style>\n",
       "<table border=\"1\" class=\"dataframe\">\n",
       "  <thead>\n",
       "    <tr style=\"text-align: right;\">\n",
       "      <th></th>\n",
       "      <th>fecha</th>\n",
       "      <th>casos_totales</th>\n",
       "      <th>casos_activos</th>\n",
       "      <th>recuperados</th>\n",
       "    </tr>\n",
       "  </thead>\n",
       "  <tbody>\n",
       "    <tr>\n",
       "      <th>0</th>\n",
       "      <td>06/03/20</td>\n",
       "      <td>1</td>\n",
       "      <td>1</td>\n",
       "      <td>0</td>\n",
       "    </tr>\n",
       "    <tr>\n",
       "      <th>1</th>\n",
       "      <td>07/03/20</td>\n",
       "      <td>6</td>\n",
       "      <td>6</td>\n",
       "      <td>0</td>\n",
       "    </tr>\n",
       "    <tr>\n",
       "      <th>2</th>\n",
       "      <td>08/03/20</td>\n",
       "      <td>7</td>\n",
       "      <td>7</td>\n",
       "      <td>0</td>\n",
       "    </tr>\n",
       "    <tr>\n",
       "      <th>3</th>\n",
       "      <td>09/03/20</td>\n",
       "      <td>9</td>\n",
       "      <td>9</td>\n",
       "      <td>0</td>\n",
       "    </tr>\n",
       "    <tr>\n",
       "      <th>4</th>\n",
       "      <td>10/03/20</td>\n",
       "      <td>11</td>\n",
       "      <td>11</td>\n",
       "      <td>0</td>\n",
       "    </tr>\n",
       "  </tbody>\n",
       "</table>\n",
       "</div>"
      ],
      "text/plain": [
       "      fecha  casos_totales  casos_activos  recuperados\n",
       "0  06/03/20              1              1            0\n",
       "1  07/03/20              6              6            0\n",
       "2  08/03/20              7              7            0\n",
       "3  09/03/20              9              9            0\n",
       "4  10/03/20             11             11            0"
      ]
     },
     "execution_count": 2343,
     "metadata": {},
     "output_type": "execute_result"
    }
   ],
   "source": [
    "data.head()"
   ]
  },
  {
   "cell_type": "code",
   "execution_count": 2344,
   "metadata": {},
   "outputs": [
    {
     "data": {
      "text/plain": [
       "<matplotlib.axes._subplots.AxesSubplot at 0x1395c53f1d0>"
      ]
     },
     "execution_count": 2344,
     "metadata": {},
     "output_type": "execute_result"
    },
    {
     "data": {
      "image/png": "[encoded data removed]",
      "text/plain": [
       "<Figure size 432x288 with 1 Axes>"
      ]
     },
     "metadata": {
      "needs_background": "light"
     },
     "output_type": "display_data"
    }
   ],
   "source": [
    "data.casos_totales.plot()"
   ]
  },
  {
   "cell_type": "code",
   "execution_count": 2454,
   "metadata": {},
   "outputs": [
    {
     "data": {
      "text/plain": [
       "Text(0.5, 1.0, 'Nuevos Casos - Media Móvil 5 días')"
      ]
     },
     "execution_count": 2454,
     "metadata": {},
     "output_type": "execute_result"
    },
    {
     "data": {
      "image/png": "[encoded data removed]",
      "text/plain": [
       "<Figure size 432x288 with 1 Axes>"
      ]
     },
     "metadata": {
      "needs_background": "light"
     },
     "output_type": "display_data"
    }
   ],
   "source": [
    "data.casos_totales.diff().rolling(5).mean().plot()\n",
    "plt.title('Nuevos Casos - Media Móvil 5 días')"
   ]
  },
  {
   "cell_type": "code",
   "execution_count": 2345,
   "metadata": {},
   "outputs": [],
   "source": [
    "cases=pd.to_numeric(data['casos_totales'], downcast=\"float\")\n",
    "recuperados=pd.to_numeric(data['recuperados'], downcast=\"float\")"
   ]
  },
  {
   "cell_type": "code",
   "execution_count": 2346,
   "metadata": {},
   "outputs": [],
   "source": [
    "# Total population, N.\n",
    "#N = 8575000\n",
    "N = 80000\n",
    "# Initial number of infected and recovered individuals, I0 and R0.\n",
    "I0, R0 = 1, 0\n",
    "# Everyone else, S0, is susceptible to infection initially.\n",
    "S0 = N - I0 - R0\n",
    "# Contact rate, beta, and mean recovery rate, gamma, (in 1/days).\n",
    "beta, gamma = 0.01, 0.01\n",
    "# A grid of time points (in days)\n",
    "t = np.linspace(0, len(cases)-1, len(cases))"
   ]
  },
  {
   "cell_type": "code",
   "execution_count": 2438,
   "metadata": {},
   "outputs": [
    {
     "name": "stdout",
     "output_type": "stream",
     "text": [
      "Dia del contagio:  67\n"
     ]
    }
   ],
   "source": [
    "print('Dia del contagio: ',len(t))"
   ]
  },
  {
   "cell_type": "code",
   "execution_count": 2348,
   "metadata": {},
   "outputs": [],
   "source": [
    "# set parameters including bounds; you can also fix parameters (use vary=False)\n",
    "params = Parameters()\n",
    "params.add('S0', value=S0, vary=False)\n",
    "params.add('I0', value=I0, vary=False)\n",
    "params.add('R0', value=R0, vary=False)\n",
    "params.add('beta', value=beta, min=0.0001, max=7.)\n",
    "params.add('gamma', value=gamma, min=0.002, max=3.)\n",
    "#params.add('gamma', value=gamma,min=0.00020,max=0.00040,vary=True)\n",
    "#params.add('gamma', value=gamma,vary=False)\n",
    "params.add('N', value=N, vary = False)"
   ]
  },
  {
   "cell_type": "code",
   "execution_count": 2349,
   "metadata": {},
   "outputs": [],
   "source": [
    "# The SIR model differential equations.4\n",
    "def deriv(y, t, paras):\n",
    "    \n",
    "    try:\n",
    "        beta = paras['beta'].value\n",
    "        gamma = paras['gamma'].value\n",
    "        N = paras['N'].value\n",
    "        \n",
    "    except KeyError:\n",
    "        beta, gamma,N = paras\n",
    "    \n",
    "    S, I, R = y\n",
    "    dSdt = -beta * S * I / N\n",
    "    dIdt = beta * S * I / N - gamma * I\n",
    "    dRdt = gamma * I\n",
    "    return dSdt, dIdt, dRdt"
   ]
  },
  {
   "cell_type": "code",
   "execution_count": 2350,
   "metadata": {},
   "outputs": [],
   "source": [
    "# Initial conditions vector\n",
    "y0 = [S0, I0, R0]\n",
    "# Integrate the SIR equations over the time grid, t.\n",
    "#ret = odeint(deriv, y0, t, args=(paras,))\n",
    "#S, I, R = ret.T\n",
    "#paras= (N, beta, gamma)"
   ]
  },
  {
   "cell_type": "code",
   "execution_count": 2351,
   "metadata": {},
   "outputs": [],
   "source": [
    "#x0 es y0\n",
    "\n",
    "def g(t, x0, paras):\n",
    "    \"\"\"\n",
    "    Solution to the ODE x'(t) = f(t,x,k) with initial condition x(0) = x0\n",
    "    \"\"\" \n",
    "    x = odeint(deriv, x0, t, args=(paras,) )\n",
    "    return x\n"
   ]
  },
  {
   "cell_type": "code",
   "execution_count": 2352,
   "metadata": {},
   "outputs": [],
   "source": [
    "def residual(paras, t, data):\n",
    "\n",
    "    \"\"\"\n",
    "    compute the residual between actual data and fitted data\n",
    "    \"\"\"\n",
    "\n",
    "    x0 = paras['S0'].value, paras['I0'].value, paras['R0'].value # Initial Conditions\n",
    "    model = g(t, x0, paras)\n",
    "\n",
    "    # you only have data for one of your variables\n",
    "    x2_model = model.T[1]\n",
    "    x3_model = model.T[2]\n",
    "    # 50% , 50%\n",
    "    return ((x2_model - cases)*0.50+(x3_model-recuperados)*0.50).ravel()"
   ]
  },
  {
   "cell_type": "code",
   "execution_count": 2353,
   "metadata": {},
   "outputs": [],
   "source": [
    "result = minimize(residual, params, args=(t, cases), method='leastsq',nan_policy='omit')  # leastsq nelder"
   ]
  },
  {
   "cell_type": "code",
   "execution_count": 2354,
   "metadata": {},
   "outputs": [
    {
     "data": {
      "text/html": [
       "<table><tr><th> name </th><th> value </th><th> standard error </th><th> relative error </th><th> initial value </th><th> min </th><th> max </th><th> vary </th></tr><tr><td> S0 </td><td>  79999.0000 </td><td>  0.00000000 </td><td> (0.00%) </td><td> 79999 </td><td>        -inf </td><td>         inf </td><td> False </td></tr><tr><td> I0 </td><td>  1.00000000 </td><td>  0.00000000 </td><td> (0.00%) </td><td> 1 </td><td>        -inf </td><td>         inf </td><td> False </td></tr><tr><td> R0 </td><td>  0.00000000 </td><td>  0.00000000 </td><td>  </td><td> 0 </td><td>        -inf </td><td>         inf </td><td> False </td></tr><tr><td> beta </td><td>  0.22805527 </td><td>  0.02592229 </td><td> (11.37%) </td><td> 0.01 </td><td>  1.0000e-04 </td><td>  7.00000000 </td><td> True </td></tr><tr><td> gamma </td><td>  0.00731766 </td><td>  0.02644503 </td><td> (361.39%) </td><td> 0.01 </td><td>  0.00200000 </td><td>  3.00000000 </td><td> True </td></tr><tr><td> N </td><td>  80000.0000 </td><td>  0.00000000 </td><td> (0.00%) </td><td> 80000 </td><td>        -inf </td><td>         inf </td><td> False </td></tr></table>"
      ],
      "text/plain": [
       "Parameters([('S0', <Parameter 'S0', value=79999 (fixed), bounds=[-inf:inf]>),\n",
       "            ('I0', <Parameter 'I0', value=1 (fixed), bounds=[-inf:inf]>),\n",
       "            ('R0', <Parameter 'R0', value=0 (fixed), bounds=[-inf:inf]>),\n",
       "            ('beta',\n",
       "             <Parameter 'beta', value=0.22805527492978764 +/- 0.0259, bounds=[0.0001:7.0]>),\n",
       "            ('gamma',\n",
       "             <Parameter 'gamma', value=0.0073176631715097295 +/- 0.0264, bounds=[0.002:3.0]>),\n",
       "            ('N', <Parameter 'N', value=80000 (fixed), bounds=[-inf:inf]>)])"
      ]
     },
     "execution_count": 2354,
     "metadata": {},
     "output_type": "execute_result"
    }
   ],
   "source": [
    "result.params"
   ]
  },
  {
   "cell_type": "code",
   "execution_count": 2355,
   "metadata": {},
   "outputs": [],
   "source": [
    "time =np.linspace(0., 400, 401)"
   ]
  },
  {
   "cell_type": "code",
   "execution_count": 2356,
   "metadata": {},
   "outputs": [],
   "source": [
    "data_fitted = g(time, y0, result.params)"
   ]
  },
  {
   "cell_type": "code",
   "execution_count": 2357,
   "metadata": {},
   "outputs": [
    {
     "name": "stdout",
     "output_type": "stream",
     "text": [
      "[[Fit Statistics]]\n",
      "    # fitting method   = leastsq\n",
      "    # function evals   = 120\n",
      "    # data points      = 67\n",
      "    # variables        = 2\n",
      "    chi-square         = 4.9279e+08\n",
      "    reduced chi-square = 7581440.44\n",
      "    Akaike info crit   = 1063.33086\n",
      "    Bayesian info crit = 1067.74025\n",
      "[[Variables]]\n",
      "    S0:     79999 (fixed)\n",
      "    I0:     1 (fixed)\n",
      "    R0:     0 (fixed)\n",
      "    beta:   0.22805527 +/- 0.02592229 (11.37%) (init = 0.01)\n",
      "    gamma:  0.00731766 +/- 0.02644503 (361.39%) (init = 0.01)\n",
      "    N:      80000 (fixed)\n",
      "[[Correlations]] (unreported correlations are < 0.100)\n",
      "    C(beta, gamma) =  0.998\n"
     ]
    },
    {
     "data": {
      "image/png": "[encoded data removed]",
      "text/plain": [
       "<Figure size 432x288 with 1 Axes>"
      ]
     },
     "metadata": {
      "needs_background": "light"
     },
     "output_type": "display_data"
    }
   ],
   "source": [
    "plt.plot(time, data_fitted[:, 1], '-', linewidth=2, color='red', label='fitted data')\n",
    "#plt.plot(time, data_fitted[:, 2], '-', linewidth=2, color='green', label='recover')\n",
    "#plt.plot(time, data_fitted[:, 0], '-', linewidth=2, color='blue', label='Susceptible')\n",
    "plt.legend()\n",
    "plt.plot(cases,color='black',label='Data')\n",
    "report_fit(result)\n",
    "\n",
    "plt.show()"
   ]
  },
  {
   "cell_type": "code",
   "execution_count": 2358,
   "metadata": {},
   "outputs": [
    {
     "data": {
      "image/png": "[encoded data removed]",
      "text/plain": [
       "<Figure size 432x288 with 1 Axes>"
      ]
     },
     "metadata": {
      "needs_background": "light"
     },
     "output_type": "display_data"
    }
   ],
   "source": [
    "plt.plot(time, data_fitted[:, 2], '-', linewidth=2, color='red', label='fitted data')\n",
    "#plt.plot(time, data_fitted[:, 2], '-', linewidth=2, color='green', label='recover')\n",
    "#plt.plot(time, data_fitted[:, 0], '-', linewidth=2, color='blue', label='Susceptible')\n",
    "plt.legend()\n",
    "plt.plot(recuperados,color='black',label='Data')\n",
    "plt.show()"
   ]
  },
  {
   "cell_type": "code",
   "execution_count": 2359,
   "metadata": {
    "scrolled": true
   },
   "outputs": [
    {
     "data": {
      "text/plain": [
       "[<matplotlib.lines.Line2D at 0x13957a7d748>]"
      ]
     },
     "execution_count": 2359,
     "metadata": {},
     "output_type": "execute_result"
    },
    {
     "data": {
      "image/png": "[encoded data removed]",
      "text/plain": [
       "<Figure size 432x288 with 1 Axes>"
      ]
     },
     "metadata": {
      "needs_background": "light"
     },
     "output_type": "display_data"
    }
   ],
   "source": [
    "plt.plot(time, data_fitted[:, 1], '-', linewidth=2, color='red', label='fitted data')\n",
    "plt.plot(time, data_fitted[:, 2], '-', linewidth=2, color='green', label='recover')\n",
    "plt.plot(time, data_fitted[:, 0], '-', linewidth=2, color='blue', label='Susceptible')"
   ]
  },
  {
   "cell_type": "markdown",
   "metadata": {},
   "source": [
    "# Modelo incluyendo no expuestos"
   ]
  },
  {
   "cell_type": "code",
   "execution_count": 2360,
   "metadata": {},
   "outputs": [],
   "source": [
    "# Total population, N.\n",
    "#N = 21000000\n",
    "N = 80000\n",
    "# Initial number of infected and recovered individuals, I0 and R0.\n",
    "I0, R0 ,e= 1, 0,0\n",
    "# Everyone else, S0, is susceptible to infection initially.\n",
    "S0 = N - I0 - R0\n",
    "# Contact rate, beta, and mean recovery rate, gamma, (in 1/days).\n",
    "beta, gamma = 0.01, 0.01\n",
    "# A grid of time points (in days)\n",
    "t = np.linspace(0, len(cases)-1, len(cases))"
   ]
  },
  {
   "cell_type": "code",
   "execution_count": 2361,
   "metadata": {},
   "outputs": [
    {
     "data": {
      "text/plain": [
       "67"
      ]
     },
     "execution_count": 2361,
     "metadata": {},
     "output_type": "execute_result"
    }
   ],
   "source": [
    "len(t)"
   ]
  },
  {
   "cell_type": "code",
   "execution_count": 2362,
   "metadata": {},
   "outputs": [],
   "source": [
    "# set parameters including bounds; you can also fix parameters (use vary=False)\n",
    "params = Parameters()\n",
    "params.add('S0', value=S0, vary=False)\n",
    "params.add('I0', value=I0, vary=False)\n",
    "params.add('R0', value=R0, vary=False)\n",
    "params.add('beta', value=beta, min=0.0001, max=7.)\n",
    "params.add('gamma', value=gamma, min=0.002, max=3.)\n",
    "params.add('e', value=0.000001 , min=0.000001, max=1.)\n",
    "#params.add('gamma', value=gamma,min=0.00020,max=0.00040,vary=True)\n",
    "#params.add('gamma', value=gamma,vary=False)\n",
    "params.add('N', value=N, vary = False)"
   ]
  },
  {
   "cell_type": "code",
   "execution_count": 2363,
   "metadata": {},
   "outputs": [],
   "source": [
    "# The SIR model differential equations.4\n",
    "def deriv(y, t, paras):\n",
    "    \n",
    "    try:\n",
    "        beta = paras['beta'].value\n",
    "        gamma = paras['gamma'].value\n",
    "        e = paras['e'].value\n",
    "        N = paras['N'].value\n",
    "        \n",
    "    except KeyError:\n",
    "        beta, gamma,N = paras\n",
    "    \n",
    "    S, I, R = y\n",
    "    dSdt = -beta * S * I /N -S * e /N\n",
    "    dIdt = beta * S * I /N  - gamma * I\n",
    "    dRdt = gamma * I + S * e /N\n",
    "    #dEdt = S*e/N\n",
    "    return dSdt, dIdt, dRdt #,dEdt"
   ]
  },
  {
   "cell_type": "code",
   "execution_count": 2364,
   "metadata": {},
   "outputs": [],
   "source": [
    "# Initial conditions vector\n",
    "y0 = [S0, I0, R0]\n",
    "# Integrate the SIR equations over the time grid, t.\n",
    "#ret = odeint(deriv, y0, t, args=(paras,))\n",
    "#S, I, R = ret.T\n",
    "#paras= (N, beta, gamma)"
   ]
  },
  {
   "cell_type": "code",
   "execution_count": 2365,
   "metadata": {},
   "outputs": [],
   "source": [
    "#x0 es y0\n",
    "\n",
    "def g(t, x0, paras):\n",
    "    \"\"\"\n",
    "    Solution to the ODE x'(t) = f(t,x,k) with initial condition x(0) = x0\n",
    "    \"\"\" \n",
    "    x = odeint(deriv, x0, t, args=(paras,) )\n",
    "    return x\n"
   ]
  },
  {
   "cell_type": "code",
   "execution_count": 2366,
   "metadata": {},
   "outputs": [],
   "source": [
    "def residual(paras, t, data):\n",
    "\n",
    "    \"\"\"\n",
    "    compute the residual between actual data and fitted data\n",
    "    \"\"\"\n",
    "\n",
    "    x0 = paras['S0'].value, paras['I0'].value, paras['R0'].value#,paras['e'].value # Initial Conditions\n",
    "    model = g(t, x0, paras)\n",
    "\n",
    "    # you only have data for one of your variables\n",
    "    x2_model = model.T[1]\n",
    "    x3_model = model.T[2]\n",
    "    # 50% , 50%\n",
    "    #return ((x2_model - cases)*0.50+(x3_model-recuperados)*0.50).ravel()\n",
    "    return np.concatenate(((x2_model - cases),(x3_model-recuperados)))"
   ]
  },
  {
   "cell_type": "code",
   "execution_count": 2367,
   "metadata": {},
   "outputs": [],
   "source": [
    "result = minimize(residual, params, args=(t, cases), method='leastsq',nan_policy='omit')  # leastsq nelder"
   ]
  },
  {
   "cell_type": "code",
   "execution_count": 2368,
   "metadata": {},
   "outputs": [
    {
     "data": {
      "text/html": [
       "<table><tr><th> name </th><th> value </th><th> standard error </th><th> relative error </th><th> initial value </th><th> min </th><th> max </th><th> vary </th></tr><tr><td> S0 </td><td>  79999.0000 </td><td>  0.00000000 </td><td> (0.00%) </td><td> 79999 </td><td>        -inf </td><td>         inf </td><td> False </td></tr><tr><td> I0 </td><td>  1.00000000 </td><td>  0.00000000 </td><td> (0.00%) </td><td> 1 </td><td>        -inf </td><td>         inf </td><td> False </td></tr><tr><td> R0 </td><td>  0.00000000 </td><td>  0.00000000 </td><td>  </td><td> 0 </td><td>        -inf </td><td>         inf </td><td> False </td></tr><tr><td> beta </td><td>  0.23936951 </td><td>  0.00188562 </td><td> (0.79%) </td><td> 0.01 </td><td>  1.0000e-04 </td><td>  7.00000000 </td><td> True </td></tr><tr><td> gamma </td><td>  0.02384095 </td><td>  0.00192892 </td><td> (8.09%) </td><td> 0.01 </td><td>  0.00200000 </td><td>  3.00000000 </td><td> True </td></tr><tr><td> e </td><td>  0.99999996 </td><td>  11.9793062 </td><td> (1197.93%) </td><td> 1e-06 </td><td>  1.0000e-06 </td><td>  1.00000000 </td><td> True </td></tr><tr><td> N </td><td>  80000.0000 </td><td>  0.00000000 </td><td> (0.00%) </td><td> 80000 </td><td>        -inf </td><td>         inf </td><td> False </td></tr></table>"
      ],
      "text/plain": [
       "Parameters([('S0', <Parameter 'S0', value=79999 (fixed), bounds=[-inf:inf]>),\n",
       "            ('I0', <Parameter 'I0', value=1 (fixed), bounds=[-inf:inf]>),\n",
       "            ('R0', <Parameter 'R0', value=0 (fixed), bounds=[-inf:inf]>),\n",
       "            ('beta',\n",
       "             <Parameter 'beta', value=0.23936950628887937 +/- 0.00189, bounds=[0.0001:7.0]>),\n",
       "            ('gamma',\n",
       "             <Parameter 'gamma', value=0.02384095443081976 +/- 0.00193, bounds=[0.002:3.0]>),\n",
       "            ('e',\n",
       "             <Parameter 'e', value=0.9999999602915913 +/- 12, bounds=[1e-06:1.0]>),\n",
       "            ('N', <Parameter 'N', value=80000 (fixed), bounds=[-inf:inf]>)])"
      ]
     },
     "execution_count": 2368,
     "metadata": {},
     "output_type": "execute_result"
    }
   ],
   "source": [
    "result.params"
   ]
  },
  {
   "cell_type": "code",
   "execution_count": 2369,
   "metadata": {},
   "outputs": [],
   "source": [
    "time =np.linspace(0., 400, 401)"
   ]
  },
  {
   "cell_type": "code",
   "execution_count": 2370,
   "metadata": {},
   "outputs": [],
   "source": [
    "data_fitted = g(time, y0, result.params)"
   ]
  },
  {
   "cell_type": "code",
   "execution_count": 2371,
   "metadata": {},
   "outputs": [
    {
     "name": "stdout",
     "output_type": "stream",
     "text": [
      "[[Fit Statistics]]\n",
      "    # fitting method   = leastsq\n",
      "    # function evals   = 1676\n",
      "    # data points      = 134\n",
      "    # variables        = 3\n",
      "    chi-square         = 1.7914e+09\n",
      "    reduced chi-square = 13674464.0\n",
      "    Akaike info crit   = 2204.72536\n",
      "    Bayesian info crit = 2213.41888\n",
      "[[Variables]]\n",
      "    S0:     79999 (fixed)\n",
      "    I0:     1 (fixed)\n",
      "    R0:     0 (fixed)\n",
      "    beta:   0.23936951 +/- 0.00188562 (0.79%) (init = 0.01)\n",
      "    gamma:  0.02384095 +/- 0.00192892 (8.09%) (init = 0.01)\n",
      "    e:      0.99999996 +/- 11.9793062 (1197.93%) (init = 1e-06)\n",
      "    N:      80000 (fixed)\n",
      "[[Correlations]] (unreported correlations are < 0.100)\n",
      "    C(gamma, e)    =  0.733\n",
      "    C(beta, gamma) =  0.602\n",
      "    C(beta, e)     =  0.145\n"
     ]
    },
    {
     "data": {
      "image/png": "[encoded data removed]",
      "text/plain": [
       "<Figure size 432x288 with 1 Axes>"
      ]
     },
     "metadata": {
      "needs_background": "light"
     },
     "output_type": "display_data"
    }
   ],
   "source": [
    "plt.plot(time, data_fitted[:, 1], '-', linewidth=2, color='red', label='fitted data')\n",
    "#plt.plot(time, data_fitted[:, 2], '-', linewidth=2, color='green', label='recover')\n",
    "#plt.plot(time, data_fitted[:, 0], '-', linewidth=2, color='blue', label='Susceptible')\n",
    "plt.legend()\n",
    "plt.plot(cases,color='black',label='Data')\n",
    "report_fit(result)\n",
    "\n",
    "plt.show()"
   ]
  },
  {
   "cell_type": "code",
   "execution_count": 2372,
   "metadata": {
    "scrolled": true
   },
   "outputs": [
    {
     "data": {
      "image/png": "[encoded data removed]",
      "text/plain": [
       "<Figure size 432x288 with 1 Axes>"
      ]
     },
     "metadata": {
      "needs_background": "light"
     },
     "output_type": "display_data"
    }
   ],
   "source": [
    "plt.plot(time, data_fitted[:, 2], '-', linewidth=2, color='red', label='fitted data')\n",
    "#plt.plot(time, data_fitted[:, 2], '-', linewidth=2, color='green', label='recover')\n",
    "#plt.plot(time, data_fitted[:, 0], '-', linewidth=2, color='blue', label='Susceptible')\n",
    "plt.legend()\n",
    "plt.plot(recuperados,color='black',label='Data')\n",
    "plt.show()"
   ]
  },
  {
   "cell_type": "code",
   "execution_count": 2373,
   "metadata": {
    "scrolled": true
   },
   "outputs": [
    {
     "data": {
      "text/plain": [
       "[<matplotlib.lines.Line2D at 0x1395f3ccb38>]"
      ]
     },
     "execution_count": 2373,
     "metadata": {},
     "output_type": "execute_result"
    },
    {
     "data": {
      "image/png": "[encoded data removed]",
      "text/plain": [
       "<Figure size 432x288 with 1 Axes>"
      ]
     },
     "metadata": {
      "needs_background": "light"
     },
     "output_type": "display_data"
    }
   ],
   "source": [
    "plt.plot(time, data_fitted[:, 1], '-', linewidth=2, color='red', label='fitted data')\n",
    "plt.plot(time, data_fitted[:, 2], '-', linewidth=2, color='green', label='recover')\n",
    "plt.plot(time, data_fitted[:, 0], '-', linewidth=2, color='blue', label='Susceptible')"
   ]
  },
  {
   "cell_type": "markdown",
   "metadata": {},
   "source": [
    "# Modelo de fracción de sensibles"
   ]
  },
  {
   "cell_type": "code",
   "execution_count": 2374,
   "metadata": {},
   "outputs": [],
   "source": [
    "# Total population, N.\n",
    "#N = 31000000\n",
    "N = 150000\n",
    "# Initial number of infected and recovered individuals, I0 and R0.\n",
    "I0, R0 = 1, 0\n",
    "# Everyone else, S0, is susceptible to infection initially.\n",
    "S0 = N - I0 - R0\n",
    "# Contact rate, beta, and mean recovery rate, gamma, (in 1/days).\n",
    "beta, gamma,e = 0.01, 0.01,0.000001\n",
    "# A grid of time points (in days)\n",
    "t = np.linspace(0, len(cases)-1, len(cases))"
   ]
  },
  {
   "cell_type": "code",
   "execution_count": 2375,
   "metadata": {},
   "outputs": [
    {
     "data": {
      "text/plain": [
       "67"
      ]
     },
     "execution_count": 2375,
     "metadata": {},
     "output_type": "execute_result"
    }
   ],
   "source": [
    "len(t)"
   ]
  },
  {
   "cell_type": "code",
   "execution_count": 2376,
   "metadata": {},
   "outputs": [],
   "source": [
    "# set parameters including bounds; you can also fix parameters (use vary=False)\n",
    "params = Parameters()\n",
    "params.add('S0', value=S0, vary=False)\n",
    "params.add('I0', value=I0, vary=False)\n",
    "params.add('R0', value=R0, vary=False)\n",
    "params.add('beta', value=beta, min=0.0001, max=7.)\n",
    "params.add('gamma', value=gamma, min=0.002, max=3.)\n",
    "params.add('e', value=e , min=0.000001, max=3.)\n",
    "#params.add('gamma', value=gamma,min=0.00020,max=0.00040,vary=True)\n",
    "#params.add('gamma', value=gamma,vary=False)\n",
    "#params.add('N', value=N, vary = True, min=60000,max= 300000)\n",
    "params.add('N', value=N, vary = False)"
   ]
  },
  {
   "cell_type": "code",
   "execution_count": 2377,
   "metadata": {},
   "outputs": [],
   "source": [
    "# The SIR model differential equations.4\n",
    "def deriv(y, t, paras):\n",
    "    \n",
    "    try:\n",
    "        beta = paras['beta'].value\n",
    "        gamma = paras['gamma'].value\n",
    "        e = paras['e'].value\n",
    "        N = paras['N'].value\n",
    "        \n",
    "    except KeyError:\n",
    "        beta, gamma,N = paras\n",
    "        \n",
    "    \n",
    "    S, I, R = y\n",
    "    #dSdt = -beta * S * I /(N*e)\n",
    "    #dIdt = beta * S * I /(N*e)  - gamma * I\n",
    "    #Mejor\n",
    "    dSdt = -beta * S * I /(N)\n",
    "    dIdt = beta * S * I /(N)  - gamma * I\n",
    "    #Cambio\n",
    "    #dSdt = -beta * S * I \n",
    "    #dIdt = beta * S * I   - gamma * I\n",
    "    dRdt = gamma * I\n",
    "    return dSdt, dIdt, dRdt"
   ]
  },
  {
   "cell_type": "code",
   "execution_count": 2378,
   "metadata": {},
   "outputs": [],
   "source": [
    "# Initial conditions vector\n",
    "y0 = [S0, I0, R0]\n",
    "# Integrate the SIR equations over the time grid, t.\n",
    "#ret = odeint(deriv, y0, t, args=(paras,))\n",
    "#S, I, R = ret.T\n",
    "#paras= (N, beta, gamma)"
   ]
  },
  {
   "cell_type": "code",
   "execution_count": 2379,
   "metadata": {},
   "outputs": [],
   "source": [
    "#x0 es y0\n",
    "\n",
    "def g(t, x0, paras):\n",
    "    \"\"\"\n",
    "    Solution to the ODE x'(t) = f(t,x,k) with initial condition x(0) = x0\n",
    "    \"\"\" \n",
    "    x = odeint(deriv, x0, t, args=(paras,) )\n",
    "    return x\n"
   ]
  },
  {
   "cell_type": "code",
   "execution_count": 2380,
   "metadata": {},
   "outputs": [],
   "source": [
    "def residual(paras, t, data):\n",
    "\n",
    "    \"\"\"\n",
    "    compute the residual between actual data and fitted data\n",
    "    \"\"\"\n",
    "\n",
    "    x0 = paras['S0'].value, paras['I0'].value, paras['R0'].value # Initial Conditions\n",
    "    model = g(t, x0, paras)\n",
    "\n",
    "    # you only have data for one of your variables\n",
    "    x2_model = model.T[1]\n",
    "    x3_model = model.T[2]\n",
    "    # 50% , 50%\n",
    "    return np.concatenate(((x2_model - cases),(x3_model-recuperados)))"
   ]
  },
  {
   "cell_type": "code",
   "execution_count": 2381,
   "metadata": {},
   "outputs": [],
   "source": [
    "result = minimize(residual, params, args=(t, cases), method='leastsq',nan_policy='omit')  # leastsq nelder"
   ]
  },
  {
   "cell_type": "code",
   "execution_count": 2382,
   "metadata": {},
   "outputs": [
    {
     "data": {
      "text/html": [
       "<table><tr><th> name </th><th> value </th><th> initial value </th><th> min </th><th> max </th><th> vary </th></tr><tr><td> S0 </td><td>  149999.000 </td><td> 149999 </td><td>        -inf </td><td>         inf </td><td> False </td></tr><tr><td> I0 </td><td>  1.00000000 </td><td> 1 </td><td>        -inf </td><td>         inf </td><td> False </td></tr><tr><td> R0 </td><td>  0.00000000 </td><td> 0 </td><td>        -inf </td><td>         inf </td><td> False </td></tr><tr><td> beta </td><td>  0.23972101 </td><td> 0.01 </td><td>  1.0000e-04 </td><td>  7.00000000 </td><td> True </td></tr><tr><td> gamma </td><td>  0.04310813 </td><td> 0.01 </td><td>  0.00200000 </td><td>  3.00000000 </td><td> True </td></tr><tr><td> e </td><td>  1.0000e-06 </td><td> 1e-06 </td><td>  1.0000e-06 </td><td>  3.00000000 </td><td> True </td></tr><tr><td> N </td><td>  150000.000 </td><td> 150000 </td><td>        -inf </td><td>         inf </td><td> False </td></tr></table>"
      ],
      "text/plain": [
       "Parameters([('S0', <Parameter 'S0', value=149999 (fixed), bounds=[-inf:inf]>),\n",
       "            ('I0', <Parameter 'I0', value=1 (fixed), bounds=[-inf:inf]>),\n",
       "            ('R0', <Parameter 'R0', value=0 (fixed), bounds=[-inf:inf]>),\n",
       "            ('beta',\n",
       "             <Parameter 'beta', value=0.23972101254567144, bounds=[0.0001:7.0]>),\n",
       "            ('gamma',\n",
       "             <Parameter 'gamma', value=0.04310812582995623, bounds=[0.002:3.0]>),\n",
       "            ('e', <Parameter 'e', value=1e-06, bounds=[1e-06:3.0]>),\n",
       "            ('N', <Parameter 'N', value=150000 (fixed), bounds=[-inf:inf]>)])"
      ]
     },
     "execution_count": 2382,
     "metadata": {},
     "output_type": "execute_result"
    }
   ],
   "source": [
    "result.params"
   ]
  },
  {
   "cell_type": "code",
   "execution_count": 2383,
   "metadata": {},
   "outputs": [],
   "source": [
    "time =np.linspace(0., 400, 401)"
   ]
  },
  {
   "cell_type": "code",
   "execution_count": 2384,
   "metadata": {},
   "outputs": [],
   "source": [
    "data_fitted = g(time, y0, result.params)"
   ]
  },
  {
   "cell_type": "code",
   "execution_count": 2385,
   "metadata": {},
   "outputs": [
    {
     "name": "stdout",
     "output_type": "stream",
     "text": [
      "[[Fit Statistics]]\n",
      "    # fitting method   = leastsq\n",
      "    # function evals   = 126\n",
      "    # data points      = 134\n",
      "    # variables        = 3\n",
      "    chi-square         = 2.4701e+09\n",
      "    reduced chi-square = 18855804.5\n",
      "    Akaike info crit   = 2247.77831\n",
      "    Bayesian info crit = 2256.47183\n",
      "##  Warning: uncertainties could not be estimated:\n",
      "    e:      at initial value\n",
      "    e:      at boundary\n",
      "[[Variables]]\n",
      "    S0:     149999 (fixed)\n",
      "    I0:     1 (fixed)\n",
      "    R0:     0 (fixed)\n",
      "    beta:   0.23972101 (init = 0.01)\n",
      "    gamma:  0.04310813 (init = 0.01)\n",
      "    e:      1.0000e-06 (init = 1e-06)\n",
      "    N:      150000 (fixed)\n"
     ]
    },
    {
     "data": {
      "image/png": "[encoded data removed]",
      "text/plain": [
       "<Figure size 432x288 with 1 Axes>"
      ]
     },
     "metadata": {
      "needs_background": "light"
     },
     "output_type": "display_data"
    }
   ],
   "source": [
    "plt.plot(time, data_fitted[:, 1], '-', linewidth=2, color='red', label='fitted data')\n",
    "#plt.plot(time, data_fitted[:, 2], '-', linewidth=2, color='green', label='recover')\n",
    "#plt.plot(time, data_fitted[:, 0], '-', linewidth=2, color='blue', label='Susceptible')\n",
    "plt.legend()\n",
    "plt.plot(cases,color='black',label='Data')\n",
    "report_fit(result)\n",
    "\n",
    "plt.show()"
   ]
  },
  {
   "cell_type": "code",
   "execution_count": 2386,
   "metadata": {
    "scrolled": true
   },
   "outputs": [
    {
     "data": {
      "image/png": "[encoded data removed]",
      "text/plain": [
       "<Figure size 432x288 with 1 Axes>"
      ]
     },
     "metadata": {
      "needs_background": "light"
     },
     "output_type": "display_data"
    }
   ],
   "source": [
    "plt.plot(time, data_fitted[:, 2], '-', linewidth=2, color='red', label='fitted data')\n",
    "#plt.plot(time, data_fitted[:, 2], '-', linewidth=2, color='green', label='recover')\n",
    "#plt.plot(time, data_fitted[:, 0], '-', linewidth=2, color='blue', label='Susceptible')\n",
    "plt.legend()\n",
    "plt.plot(recuperados,color='black',label='Data')\n",
    "plt.show()"
   ]
  },
  {
   "cell_type": "code",
   "execution_count": 2387,
   "metadata": {
    "scrolled": false
   },
   "outputs": [
    {
     "data": {
      "text/plain": [
       "[<matplotlib.lines.Line2D at 0x13960759ba8>]"
      ]
     },
     "execution_count": 2387,
     "metadata": {},
     "output_type": "execute_result"
    },
    {
     "data": {
      "image/png": "[encoded data removed]",
      "text/plain": [
       "<Figure size 432x288 with 1 Axes>"
      ]
     },
     "metadata": {
      "needs_background": "light"
     },
     "output_type": "display_data"
    }
   ],
   "source": [
    "plt.plot(time, data_fitted[:, 1], '-', linewidth=2, color='red', label='fitted data')\n",
    "plt.plot(time, data_fitted[:, 2], '-', linewidth=2, color='green', label='recover')\n",
    "plt.plot(time, data_fitted[:, 0], '-', linewidth=2, color='blue', label='Susceptible')"
   ]
  },
  {
   "cell_type": "markdown",
   "metadata": {},
   "source": [
    "# Modelo de suceptibles variantes"
   ]
  },
  {
   "cell_type": "code",
   "execution_count": 2388,
   "metadata": {},
   "outputs": [],
   "source": [
    "# Total population, N.\n",
    "#N = 31000000\n",
    "N = 150000\n",
    "# Initial number of infected and recovered individuals, I0 and R0.\n",
    "I0, R0 = 1, 0\n",
    "# Everyone else, S0, is susceptible to infection initially.\n",
    "S0 = N - I0 - R0\n",
    "# Contact rate, beta, and mean recovery rate, gamma, (in 1/days).\n",
    "beta, gamma,e = 0.01, 0.01,0.000001\n",
    "# A grid of time points (in days)\n",
    "t = np.linspace(0, len(cases)-1, len(cases))"
   ]
  },
  {
   "cell_type": "code",
   "execution_count": 2389,
   "metadata": {},
   "outputs": [
    {
     "data": {
      "text/plain": [
       "67"
      ]
     },
     "execution_count": 2389,
     "metadata": {},
     "output_type": "execute_result"
    }
   ],
   "source": [
    "len(t)"
   ]
  },
  {
   "cell_type": "code",
   "execution_count": 2390,
   "metadata": {},
   "outputs": [],
   "source": [
    "# set parameters including bounds; you can also fix parameters (use vary=False)\n",
    "params = Parameters()\n",
    "params.add('S0', value=S0, vary=False)\n",
    "params.add('I0', value=I0, vary=False)\n",
    "params.add('R0', value=R0, vary=False)\n",
    "params.add('beta', value=beta, min=0.0001, max=7.)\n",
    "params.add('gamma', value=gamma, min=0.002, max=3.)\n",
    "params.add('e', value=e , min=0.000001, max=3.)\n",
    "#params.add('gamma', value=gamma,min=0.00020,max=0.00040,vary=True)\n",
    "#params.add('gamma', value=gamma,vary=False)\n",
    "#params.add('N', value=N, vary = True, min=60000,max= 300000)\n",
    "params.add('N', value=N, vary = False)"
   ]
  },
  {
   "cell_type": "code",
   "execution_count": 2391,
   "metadata": {},
   "outputs": [],
   "source": [
    "# The SIR model differential equations.4\n",
    "def deriv(y, t, paras):\n",
    "    \n",
    "    try:\n",
    "        beta = paras['beta'].value\n",
    "        gamma = paras['gamma'].value\n",
    "        e = paras['e'].value\n",
    "        N = paras['N'].value\n",
    "        \n",
    "    except KeyError:\n",
    "        beta, gamma,N = paras\n",
    "        \n",
    "    \n",
    "    S, I, R = y\n",
    "    #dSdt = -beta * S * I /(N*e)\n",
    "    #dIdt = beta * S * I /(N*e)  - gamma * I\n",
    "    #Mejor\n",
    "    dSdt = -beta * S * I /(N)\n",
    "    dIdt = beta * S * I /(N)  - gamma * I\n",
    "    #Cambio\n",
    "    #dSdt = -beta * S * I \n",
    "    #dIdt = beta * S * I   - gamma * I\n",
    "    dRdt = gamma * I\n",
    "    return dSdt, dIdt, dRdt"
   ]
  },
  {
   "cell_type": "code",
   "execution_count": 2392,
   "metadata": {},
   "outputs": [],
   "source": [
    "# Initial conditions vector\n",
    "y0 = [S0, I0, R0]\n",
    "# Integrate the SIR equations over the time grid, t.\n",
    "#ret = odeint(deriv, y0, t, args=(paras,))\n",
    "#S, I, R = ret.T\n",
    "#paras= (N, beta, gamma)"
   ]
  },
  {
   "cell_type": "code",
   "execution_count": 2393,
   "metadata": {},
   "outputs": [],
   "source": [
    "#x0 es y0\n",
    "\n",
    "def g(t, x0, paras):\n",
    "    \"\"\"\n",
    "    Solution to the ODE x'(t) = f(t,x,k) with initial condition x(0) = x0\n",
    "    \"\"\" \n",
    "    x = odeint(deriv, x0, t, args=(paras,) )\n",
    "    return x\n"
   ]
  },
  {
   "cell_type": "code",
   "execution_count": 2394,
   "metadata": {},
   "outputs": [],
   "source": [
    "def residual(paras, t, data):\n",
    "\n",
    "    \"\"\"\n",
    "    compute the residual between actual data and fitted data\n",
    "    \"\"\"\n",
    "\n",
    "    x0 = paras['S0'].value, paras['I0'].value, paras['R0'].value # Initial Conditions\n",
    "    model = g(t, x0, paras)\n",
    "\n",
    "    # you only have data for one of your variables\n",
    "    x2_model = model.T[1]\n",
    "    x3_model = model.T[2]\n",
    "    # 50% , 50%\n",
    "    return np.concatenate(((x2_model - cases),(x3_model-recuperados)))"
   ]
  },
  {
   "cell_type": "code",
   "execution_count": 2395,
   "metadata": {},
   "outputs": [],
   "source": [
    "result = minimize(residual, params, args=(t, cases), method='leastsq',nan_policy='omit')  # leastsq nelder"
   ]
  },
  {
   "cell_type": "code",
   "execution_count": 2396,
   "metadata": {},
   "outputs": [
    {
     "data": {
      "text/html": [
       "<table><tr><th> name </th><th> value </th><th> initial value </th><th> min </th><th> max </th><th> vary </th></tr><tr><td> S0 </td><td>  149999.000 </td><td> 149999 </td><td>        -inf </td><td>         inf </td><td> False </td></tr><tr><td> I0 </td><td>  1.00000000 </td><td> 1 </td><td>        -inf </td><td>         inf </td><td> False </td></tr><tr><td> R0 </td><td>  0.00000000 </td><td> 0 </td><td>        -inf </td><td>         inf </td><td> False </td></tr><tr><td> beta </td><td>  0.23972101 </td><td> 0.01 </td><td>  1.0000e-04 </td><td>  7.00000000 </td><td> True </td></tr><tr><td> gamma </td><td>  0.04310813 </td><td> 0.01 </td><td>  0.00200000 </td><td>  3.00000000 </td><td> True </td></tr><tr><td> e </td><td>  1.0000e-06 </td><td> 1e-06 </td><td>  1.0000e-06 </td><td>  3.00000000 </td><td> True </td></tr><tr><td> N </td><td>  150000.000 </td><td> 150000 </td><td>        -inf </td><td>         inf </td><td> False </td></tr></table>"
      ],
      "text/plain": [
       "Parameters([('S0', <Parameter 'S0', value=149999 (fixed), bounds=[-inf:inf]>),\n",
       "            ('I0', <Parameter 'I0', value=1 (fixed), bounds=[-inf:inf]>),\n",
       "            ('R0', <Parameter 'R0', value=0 (fixed), bounds=[-inf:inf]>),\n",
       "            ('beta',\n",
       "             <Parameter 'beta', value=0.23972101254567144, bounds=[0.0001:7.0]>),\n",
       "            ('gamma',\n",
       "             <Parameter 'gamma', value=0.04310812582995623, bounds=[0.002:3.0]>),\n",
       "            ('e', <Parameter 'e', value=1e-06, bounds=[1e-06:3.0]>),\n",
       "            ('N', <Parameter 'N', value=150000 (fixed), bounds=[-inf:inf]>)])"
      ]
     },
     "execution_count": 2396,
     "metadata": {},
     "output_type": "execute_result"
    }
   ],
   "source": [
    "result.params"
   ]
  },
  {
   "cell_type": "code",
   "execution_count": 2397,
   "metadata": {},
   "outputs": [
    {
     "data": {
      "text/plain": [
       "47717584619.23971"
      ]
     },
     "execution_count": 2397,
     "metadata": {},
     "output_type": "execute_result"
    }
   ],
   "source": [
    "sum(result.residual)**2"
   ]
  },
  {
   "cell_type": "code",
   "execution_count": 2398,
   "metadata": {},
   "outputs": [],
   "source": [
    "time =np.linspace(0., 400, 401)"
   ]
  },
  {
   "cell_type": "code",
   "execution_count": 2399,
   "metadata": {},
   "outputs": [],
   "source": [
    "data_fitted = g(time, y0, result.params)"
   ]
  },
  {
   "cell_type": "code",
   "execution_count": 2400,
   "metadata": {},
   "outputs": [
    {
     "name": "stdout",
     "output_type": "stream",
     "text": [
      "[[Fit Statistics]]\n",
      "    # fitting method   = leastsq\n",
      "    # function evals   = 126\n",
      "    # data points      = 134\n",
      "    # variables        = 3\n",
      "    chi-square         = 2.4701e+09\n",
      "    reduced chi-square = 18855804.5\n",
      "    Akaike info crit   = 2247.77831\n",
      "    Bayesian info crit = 2256.47183\n",
      "##  Warning: uncertainties could not be estimated:\n",
      "    e:      at initial value\n",
      "    e:      at boundary\n",
      "[[Variables]]\n",
      "    S0:     149999 (fixed)\n",
      "    I0:     1 (fixed)\n",
      "    R0:     0 (fixed)\n",
      "    beta:   0.23972101 (init = 0.01)\n",
      "    gamma:  0.04310813 (init = 0.01)\n",
      "    e:      1.0000e-06 (init = 1e-06)\n",
      "    N:      150000 (fixed)\n"
     ]
    },
    {
     "data": {
      "image/png": "[encoded data removed]",
      "text/plain": [
       "<Figure size 432x288 with 1 Axes>"
      ]
     },
     "metadata": {
      "needs_background": "light"
     },
     "output_type": "display_data"
    }
   ],
   "source": [
    "plt.plot(time, data_fitted[:, 1], '-', linewidth=2, color='red', label='fitted data')\n",
    "#plt.plot(time, data_fitted[:, 2], '-', linewidth=2, color='green', label='recover')\n",
    "#plt.plot(time, data_fitted[:, 0], '-', linewidth=2, color='blue', label='Susceptible')\n",
    "plt.legend()\n",
    "plt.plot(cases,color='black',label='Data')\n",
    "report_fit(result)\n",
    "\n",
    "plt.show()"
   ]
  },
  {
   "cell_type": "code",
   "execution_count": 2401,
   "metadata": {
    "scrolled": true
   },
   "outputs": [
    {
     "data": {
      "image/png": "[encoded data removed]",
      "text/plain": [
       "<Figure size 432x288 with 1 Axes>"
      ]
     },
     "metadata": {
      "needs_background": "light"
     },
     "output_type": "display_data"
    }
   ],
   "source": [
    "plt.plot(time, data_fitted[:, 2], '-', linewidth=2, color='red', label='fitted data')\n",
    "#plt.plot(time, data_fitted[:, 2], '-', linewidth=2, color='green', label='recover')\n",
    "#plt.plot(time, data_fitted[:, 0], '-', linewidth=2, color='blue', label='Susceptible')\n",
    "plt.legend()\n",
    "plt.plot(recuperados,color='black',label='Data')\n",
    "plt.show()"
   ]
  },
  {
   "cell_type": "code",
   "execution_count": 2402,
   "metadata": {
    "scrolled": false
   },
   "outputs": [
    {
     "data": {
      "text/plain": [
       "[<matplotlib.lines.Line2D at 0x13960e0e1d0>]"
      ]
     },
     "execution_count": 2402,
     "metadata": {},
     "output_type": "execute_result"
    },
    {
     "data": {
      "image/png": "[encoded data removed]",
      "text/plain": [
       "<Figure size 432x288 with 1 Axes>"
      ]
     },
     "metadata": {
      "needs_background": "light"
     },
     "output_type": "display_data"
    }
   ],
   "source": [
    "plt.plot(time, data_fitted[:, 1], '-', linewidth=2, color='red', label='fitted data')\n",
    "plt.plot(time, data_fitted[:, 2], '-', linewidth=2, color='green', label='recover')\n",
    "plt.plot(time, data_fitted[:, 0], '-', linewidth=2, color='blue', label='Susceptible')"
   ]
  },
  {
   "cell_type": "markdown",
   "metadata": {},
   "source": [
    "# Simulacion de condiciones iniciales"
   ]
  },
  {
   "cell_type": "code",
   "execution_count": 2403,
   "metadata": {},
   "outputs": [],
   "source": [
    "# The SIR model differential equations.4\n",
    "def deriv(y, t, paras):\n",
    "    \n",
    "    try:\n",
    "        beta = paras['beta'].value\n",
    "        gamma = paras['gamma'].value\n",
    "        e = paras['e'].value\n",
    "        N = paras['N'].value\n",
    "        \n",
    "    except KeyError:\n",
    "        beta, gamma,N = paras\n",
    "        \n",
    "    \n",
    "    S, I, R = y\n",
    "    #dSdt = -beta * S * I /(N*e)\n",
    "    #dIdt = beta * S * I /(N*e)  - gamma * I\n",
    "    #Mejor\n",
    "    dSdt = -beta * S * I /(N)\n",
    "    dIdt = beta * S * I /(N)  - gamma * I\n",
    "    #Cambio\n",
    "    #dSdt = -beta * S * I \n",
    "    #dIdt = beta * S * I   - gamma * I\n",
    "    dRdt = gamma * I\n",
    "    return dSdt, dIdt, dRdt"
   ]
  },
  {
   "cell_type": "code",
   "execution_count": 2404,
   "metadata": {},
   "outputs": [],
   "source": [
    "#x0 es y0\n",
    "\n",
    "def g(t, x0, paras):\n",
    "    \"\"\"\n",
    "    Solution to the ODE x'(t) = f(t,x,k) with initial condition x(0) = x0\n",
    "    \"\"\" \n",
    "    x = odeint(deriv, x0, t, args=(paras,) )\n",
    "    return x\n"
   ]
  },
  {
   "cell_type": "code",
   "execution_count": 2405,
   "metadata": {},
   "outputs": [],
   "source": [
    "def residual(paras, t, data):\n",
    "\n",
    "    \"\"\"\n",
    "    compute the residual between actual data and fitted data\n",
    "    \"\"\"\n",
    "\n",
    "    x0 = paras['S0'].value, paras['I0'].value, paras['R0'].value # Initial Conditions\n",
    "    model = g(t, x0, paras)\n",
    "\n",
    "    # you only have data for one of your variables\n",
    "    x2_model = model.T[1]\n",
    "    x3_model = model.T[2]\n",
    "    # 50% , 50%\n",
    "    return np.concatenate(((x2_model - cases),(x3_model-recuperados)))"
   ]
  },
  {
   "cell_type": "code",
   "execution_count": 2406,
   "metadata": {},
   "outputs": [],
   "source": [
    "def simulate(N):\n",
    "    #N = 31000000\n",
    "    # Initial number of infected and recovered individuals, I0 and R0.\n",
    "    I0, R0 = 1, 0\n",
    "    # Everyone else, S0, is susceptible to infection initially.\n",
    "    S0 = N - I0 - R0\n",
    "    # Contact rate, beta, and mean recovery rate, gamma, (in 1/days).\n",
    "    beta, gamma,e = 0.01, 0.01,0.000001\n",
    "    # A grid of time points (in days)\n",
    "    t = np.linspace(0, len(cases)-1, len(cases))\n",
    "    # set parameters including bounds; you can also fix parameters (use vary=False)\n",
    "    params = Parameters()\n",
    "    params.add('S0', value=S0, vary=False)\n",
    "    params.add('I0', value=I0, vary=False)\n",
    "    params.add('R0', value=R0, vary=False)\n",
    "    params.add('beta', value=beta, min=0.0001, max=7.)\n",
    "    params.add('gamma', value=gamma, min=0.002, max=3.)\n",
    "    params.add('e', value=e , min=0.000001, max=3.)\n",
    "    #params.add('gamma', value=gamma,min=0.00020,max=0.00040,vary=True)\n",
    "    #params.add('gamma', value=gamma,vary=False)\n",
    "    #params.add('N', value=N, vary = True, min=60000,max= 300000)\n",
    "    params.add('N', value=N, vary = False)\n",
    "    y0 = [S0, I0, R0]\n",
    "    result = minimize(residual, params, args=(t, cases), method='leastsq',nan_policy='omit')  # leastsq nelder\n",
    "    return result"
   ]
  },
  {
   "cell_type": "code",
   "execution_count": 2407,
   "metadata": {},
   "outputs": [],
   "source": [
    "iteracion=[]\n",
    "error_cuadratico=[]\n",
    "for N in range(120000,300000,5000):\n",
    "    result = simulate(N)\n",
    "    error_cuadratico.append(sum(result.residual)**2)\n",
    "    iteracion.append(N)"
   ]
  },
  {
   "cell_type": "code",
   "execution_count": 2408,
   "metadata": {},
   "outputs": [],
   "source": [
    "tabla=pd.DataFrame()\n",
    "tabla['iteracion']=iteracion\n",
    "tabla['error_cuadratico']=error_cuadratico"
   ]
  },
  {
   "cell_type": "code",
   "execution_count": 2409,
   "metadata": {},
   "outputs": [
    {
     "data": {
      "text/html": [
       "<div>\n",
       "<style scoped>\n",
       "    .dataframe tbody tr th:only-of-type {\n",
       "        vertical-align: middle;\n",
       "    }\n",
       "\n",
       "    .dataframe tbody tr th {\n",
       "        vertical-align: top;\n",
       "    }\n",
       "\n",
       "    .dataframe thead th {\n",
       "        text-align: right;\n",
       "    }\n",
       "</style>\n",
       "<table border=\"1\" class=\"dataframe\">\n",
       "  <thead>\n",
       "    <tr style=\"text-align: right;\">\n",
       "      <th></th>\n",
       "      <th>iteracion</th>\n",
       "      <th>error_cuadratico</th>\n",
       "    </tr>\n",
       "  </thead>\n",
       "  <tbody>\n",
       "    <tr>\n",
       "      <th>0</th>\n",
       "      <td>120000</td>\n",
       "      <td>3.532423e+10</td>\n",
       "    </tr>\n",
       "  </tbody>\n",
       "</table>\n",
       "</div>"
      ],
      "text/plain": [
       "   iteracion  error_cuadratico\n",
       "0     120000      3.532423e+10"
      ]
     },
     "execution_count": 2409,
     "metadata": {},
     "output_type": "execute_result"
    }
   ],
   "source": [
    "tabla[tabla['error_cuadratico']==tabla['error_cuadratico'].min()]"
   ]
  },
  {
   "cell_type": "code",
   "execution_count": 2410,
   "metadata": {},
   "outputs": [],
   "source": [
    "iteracion_optima = tabla[tabla['error_cuadratico']==tabla['error_cuadratico'].min()]['iteracion']"
   ]
  },
  {
   "cell_type": "code",
   "execution_count": 2411,
   "metadata": {},
   "outputs": [],
   "source": [
    "iteracion_optima= iteracion_optima.values[0]"
   ]
  },
  {
   "cell_type": "code",
   "execution_count": 2412,
   "metadata": {},
   "outputs": [],
   "source": [
    "result =  simulate(iteracion_optima)"
   ]
  },
  {
   "cell_type": "code",
   "execution_count": 2413,
   "metadata": {},
   "outputs": [
    {
     "data": {
      "text/html": [
       "<table><tr><th> name </th><th> value </th><th> initial value </th><th> min </th><th> max </th><th> vary </th></tr><tr><td> S0 </td><td>  119999.000 </td><td> 119999 </td><td>        -inf </td><td>         inf </td><td> False </td></tr><tr><td> I0 </td><td>  1.00000000 </td><td> 1 </td><td>        -inf </td><td>         inf </td><td> False </td></tr><tr><td> R0 </td><td>  0.00000000 </td><td> 0 </td><td>        -inf </td><td>         inf </td><td> False </td></tr><tr><td> beta </td><td>  0.23939283 </td><td> 0.01 </td><td>  1.0000e-04 </td><td>  7.00000000 </td><td> True </td></tr><tr><td> gamma </td><td>  0.03664381 </td><td> 0.01 </td><td>  0.00200000 </td><td>  3.00000000 </td><td> True </td></tr><tr><td> e </td><td>  1.0000e-06 </td><td> 1e-06 </td><td>  1.0000e-06 </td><td>  3.00000000 </td><td> True </td></tr><tr><td> N </td><td>  120000.000 </td><td> 120000 </td><td>        -inf </td><td>         inf </td><td> False </td></tr></table>"
      ],
      "text/plain": [
       "Parameters([('S0', <Parameter 'S0', value=119999 (fixed), bounds=[-inf:inf]>),\n",
       "            ('I0', <Parameter 'I0', value=1 (fixed), bounds=[-inf:inf]>),\n",
       "            ('R0', <Parameter 'R0', value=0 (fixed), bounds=[-inf:inf]>),\n",
       "            ('beta',\n",
       "             <Parameter 'beta', value=0.23939282907437728, bounds=[0.0001:7.0]>),\n",
       "            ('gamma',\n",
       "             <Parameter 'gamma', value=0.036643805375730865, bounds=[0.002:3.0]>),\n",
       "            ('e', <Parameter 'e', value=1e-06, bounds=[1e-06:3.0]>),\n",
       "            ('N', <Parameter 'N', value=120000 (fixed), bounds=[-inf:inf]>)])"
      ]
     },
     "execution_count": 2413,
     "metadata": {},
     "output_type": "execute_result"
    }
   ],
   "source": [
    "result.params"
   ]
  },
  {
   "cell_type": "code",
   "execution_count": 2414,
   "metadata": {},
   "outputs": [],
   "source": [
    "time =np.linspace(0., 400, 401)"
   ]
  },
  {
   "cell_type": "code",
   "execution_count": 2415,
   "metadata": {},
   "outputs": [
    {
     "data": {
      "text/plain": [
       "[120000, 1, 0]"
      ]
     },
     "execution_count": 2415,
     "metadata": {},
     "output_type": "execute_result"
    }
   ],
   "source": [
    "y0 =[iteracion_optima,1,0]\n",
    "y0 # Es importante volver a actualizar esta lista  , se usa en el ODE "
   ]
  },
  {
   "cell_type": "code",
   "execution_count": 2416,
   "metadata": {},
   "outputs": [],
   "source": [
    "data_fitted = g(time, y0, result.params)"
   ]
  },
  {
   "cell_type": "code",
   "execution_count": 2417,
   "metadata": {},
   "outputs": [
    {
     "name": "stdout",
     "output_type": "stream",
     "text": [
      "[[Fit Statistics]]\n",
      "    # fitting method   = leastsq\n",
      "    # function evals   = 139\n",
      "    # data points      = 134\n",
      "    # variables        = 3\n",
      "    chi-square         = 1.6406e+09\n",
      "    reduced chi-square = 12523940.7\n",
      "    Akaike info crit   = 2192.94836\n",
      "    Bayesian info crit = 2201.64188\n",
      "##  Warning: uncertainties could not be estimated:\n",
      "    e:      at initial value\n",
      "    e:      at boundary\n",
      "[[Variables]]\n",
      "    S0:     119999 (fixed)\n",
      "    I0:     1 (fixed)\n",
      "    R0:     0 (fixed)\n",
      "    beta:   0.23939283 (init = 0.01)\n",
      "    gamma:  0.03664381 (init = 0.01)\n",
      "    e:      1.0000e-06 (init = 1e-06)\n",
      "    N:      120000 (fixed)\n"
     ]
    },
    {
     "data": {
      "image/png": "[encoded data removed]",
      "text/plain": [
       "<Figure size 432x288 with 1 Axes>"
      ]
     },
     "metadata": {
      "needs_background": "light"
     },
     "output_type": "display_data"
    }
   ],
   "source": [
    "plt.plot(time, data_fitted[:, 1], '-', linewidth=2, color='red', label='fitted data')\n",
    "#plt.plot(time, data_fitted[:, 2], '-', linewidth=2, color='green', label='recover')\n",
    "#plt.plot(time, data_fitted[:, 0], '-', linewidth=2, color='blue', label='Susceptible')\n",
    "plt.legend()\n",
    "plt.plot(cases,color='black',label='Data')\n",
    "report_fit(result)\n",
    "\n",
    "plt.show()"
   ]
  },
  {
   "cell_type": "code",
   "execution_count": 2418,
   "metadata": {
    "scrolled": true
   },
   "outputs": [
    {
     "data": {
      "image/png": "[encoded data removed]",
      "text/plain": [
       "<Figure size 432x288 with 1 Axes>"
      ]
     },
     "metadata": {
      "needs_background": "light"
     },
     "output_type": "display_data"
    }
   ],
   "source": [
    "plt.plot(time, data_fitted[:, 2], '-', linewidth=2, color='red', label='fitted data')\n",
    "#plt.plot(time, data_fitted[:, 2], '-', linewidth=2, color='green', label='recover')\n",
    "#plt.plot(time, data_fitted[:, 0], '-', linewidth=2, color='blue', label='Susceptible')\n",
    "plt.legend()\n",
    "plt.plot(recuperados,color='black',label='Data')\n",
    "plt.show()"
   ]
  },
  {
   "cell_type": "code",
   "execution_count": 2419,
   "metadata": {
    "scrolled": false
   },
   "outputs": [
    {
     "data": {
      "text/plain": [
       "[<matplotlib.lines.Line2D at 0x13960c75630>]"
      ]
     },
     "execution_count": 2419,
     "metadata": {},
     "output_type": "execute_result"
    },
    {
     "data": {
      "image/png": "[encoded data removed]",
      "text/plain": [
       "<Figure size 432x288 with 1 Axes>"
      ]
     },
     "metadata": {
      "needs_background": "light"
     },
     "output_type": "display_data"
    }
   ],
   "source": [
    "plt.plot(time, data_fitted[:, 1], '-', linewidth=2, color='red', label='fitted data')\n",
    "plt.plot(time, data_fitted[:, 2], '-', linewidth=2, color='green', label='recover')\n",
    "plt.plot(time, data_fitted[:, 0], '-', linewidth=2, color='blue', label='Susceptible')"
   ]
  },
  {
   "cell_type": "code",
   "execution_count": 2429,
   "metadata": {},
   "outputs": [],
   "source": [
    "visualizar=pd.DataFrame()\n",
    "visualizar['infectados']=data_fitted[:, 1]"
   ]
  },
  {
   "cell_type": "code",
   "execution_count": 2446,
   "metadata": {},
   "outputs": [
    {
     "name": "stdout",
     "output_type": "stream",
     "text": [
      "Faltan:  83  dias\n"
     ]
    }
   ],
   "source": [
    "print('Faltan: ',150-len(t),' dias') #En 150 dias aprox se termina la pandemia"
   ]
  },
  {
   "cell_type": "code",
   "execution_count": 2443,
   "metadata": {},
   "outputs": [
    {
     "data": {
      "text/plain": [
       "2.7666666666666666"
      ]
     },
     "execution_count": 2443,
     "metadata": {},
     "output_type": "execute_result"
    }
   ],
   "source": [
    "83/30"
   ]
  },
  {
   "cell_type": "code",
   "execution_count": null,
   "metadata": {},
   "outputs": [],
   "source": []
  }
 ],
 "metadata": {
  "kernelspec": {
   "display_name": "Python 3",
   "language": "python",
   "name": "python3"
  },
  "language_info": {
   "codemirror_mode": {
    "name": "ipython",
    "version": 3
   },
   "file_extension": ".py",
   "mimetype": "text/x-python",
   "name": "python",
   "nbconvert_exporter": "python",
   "pygments_lexer": "ipython3",
   "version": "3.6.1"
  }
 },
 "nbformat": 4,
 "nbformat_minor": 2
}
